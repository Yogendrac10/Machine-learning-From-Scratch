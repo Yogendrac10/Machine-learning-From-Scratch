{
 "cells": [
  {
   "cell_type": "code",
   "execution_count": 1,
   "metadata": {},
   "outputs": [],
   "source": [
    "from sklearn.datasets import make_classification\n",
    "import numpy as np\n",
    "import matplotlib.pyplot as plt\n",
    "import pandas as pd\n",
    "\n",
    "from My_own_algorithms.Logistic_Regression import LogisticRegression"
   ]
  },
  {
   "cell_type": "code",
   "execution_count": 2,
   "metadata": {},
   "outputs": [],
   "source": [
    "X, y = make_classification(n_samples=100, n_features=2, n_informative=1,n_redundant=0,\n",
    "                           n_classes=2, n_clusters_per_class=1, random_state=41,hypercube=False,class_sep=30)"
   ]
  },
  {
   "cell_type": "code",
   "execution_count": 3,
   "metadata": {},
   "outputs": [
    {
     "data": {
      "text/plain": [
       "<matplotlib.collections.PathCollection at 0x29610f61790>"
      ]
     },
     "execution_count": 3,
     "metadata": {},
     "output_type": "execute_result"
    },
    {
     "data": {
      "image/png": "[encoded data removed]",
      "text/plain": [
       "<Figure size 720x432 with 1 Axes>"
      ]
     },
     "metadata": {
      "needs_background": "light"
     },
     "output_type": "display_data"
    }
   ],
   "source": [
    "plt.figure(figsize=(10,6))\n",
    "plt.scatter(X[:,0],X[:,1],c=y,cmap='winter',s=100)"
   ]
  },
  {
   "cell_type": "code",
   "execution_count": 4,
   "metadata": {},
   "outputs": [],
   "source": [
    "from sklearn.model_selection import train_test_split\n",
    "X_train,X_test,y_train,y_test = train_test_split(X,y,test_size=0.2,random_state=10)"
   ]
  },
  {
   "cell_type": "code",
   "execution_count": 5,
   "metadata": {},
   "outputs": [
    {
     "name": "stdout",
     "output_type": "stream",
     "text": [
      "--------- epoch 1 -------> loss=0.6713550101417951 ----------\n",
      "--------- epoch 2 -------> loss=0.4906683920226077 ----------\n",
      "--------- epoch 3 -------> loss=0.4010763937085814 ----------\n",
      "--------- epoch 4 -------> loss=0.34860307302672094 ----------\n",
      "--------- epoch 5 -------> loss=0.31359150678353165 ----------\n",
      "--------- epoch 6 -------> loss=0.28807996330552244 ----------\n",
      "--------- epoch 7 -------> loss=0.26833426622382384 ----------\n",
      "--------- epoch 8 -------> loss=0.25238210570582814 ----------\n",
      "--------- epoch 9 -------> loss=0.23908226271207944 ----------\n",
      "--------- epoch 10 -------> loss=0.22772600601172135 ----------\n",
      "--------- epoch 11 -------> loss=0.21784785064016013 ----------\n",
      "--------- epoch 12 -------> loss=0.20912793360346787 ----------\n",
      "--------- epoch 13 -------> loss=0.20133813378608184 ----------\n",
      "--------- epoch 14 -------> loss=0.19431063071595053 ----------\n",
      "--------- epoch 15 -------> loss=0.18791868100894876 ----------\n",
      "--------- epoch 16 -------> loss=0.18206439020642057 ----------\n",
      "--------- epoch 17 -------> loss=0.17667066545690177 ----------\n",
      "--------- epoch 18 -------> loss=0.1716757610894154 ----------\n",
      "--------- epoch 19 -------> loss=0.1670294849279018 ----------\n",
      "--------- epoch 20 -------> loss=0.16269049886251513 ----------\n",
      "--------- epoch 21 -------> loss=0.1586243587348098 ----------\n",
      "--------- epoch 22 -------> loss=0.15480206502315233 ----------\n",
      "--------- epoch 23 -------> loss=0.15119897359871956 ----------\n",
      "--------- epoch 24 -------> loss=0.14779396493726826 ----------\n",
      "--------- epoch 25 -------> loss=0.14456880191857263 ----------\n",
      "--------- epoch 26 -------> loss=0.14150762730539385 ----------\n",
      "--------- epoch 27 -------> loss=0.138596566101693 ----------\n",
      "--------- epoch 28 -------> loss=0.13582340765448053 ----------\n",
      "--------- epoch 29 -------> loss=0.13317734909254195 ----------\n",
      "--------- epoch 30 -------> loss=0.130648786450416 ----------\n",
      "--------- epoch 31 -------> loss=0.1282291432329302 ----------\n",
      "--------- epoch 32 -------> loss=0.12591072864790817 ----------\n",
      "--------- epoch 33 -------> loss=0.12368661955013474 ----------\n",
      "--------- epoch 34 -------> loss=0.12155056148761474 ----------\n",
      "--------- epoch 35 -------> loss=0.11949688525236306 ----------\n",
      "--------- epoch 36 -------> loss=0.11752043610390217 ----------\n",
      "--------- epoch 37 -------> loss=0.11561651341908834 ----------\n",
      "--------- epoch 38 -------> loss=0.11378081897319674 ----------\n",
      "--------- epoch 39 -------> loss=0.11200941240790041 ----------\n",
      "--------- epoch 40 -------> loss=0.11029867271637588 ----------\n",
      "--------- epoch 41 -------> loss=0.10864526479231433 ----------\n",
      "--------- epoch 42 -------> loss=0.10704611026154029 ----------\n",
      "--------- epoch 43 -------> loss=0.10549836195231702 ----------\n",
      "--------- epoch 44 -------> loss=0.103999381470853 ----------\n",
      "--------- epoch 45 -------> loss=0.10254671943781943 ----------\n",
      "--------- epoch 46 -------> loss=0.10113809801428561 ----------\n",
      "--------- epoch 47 -------> loss=0.09977139540481102 ----------\n",
      "--------- epoch 48 -------> loss=0.09844463207416321 ----------\n",
      "--------- epoch 49 -------> loss=0.09715595845434766 ----------\n",
      "--------- epoch 50 -------> loss=0.09590364395197361 ----------\n",
      "--------- epoch 51 -------> loss=0.09468606709373965 ----------\n",
      "--------- epoch 52 -------> loss=0.09350170667102928 ----------\n",
      "--------- epoch 53 -------> loss=0.09234913376408853 ----------\n",
      "--------- epoch 54 -------> loss=0.09122700454267181 ----------\n",
      "--------- epoch 55 -------> loss=0.09013405375392207 ----------\n",
      "--------- epoch 56 -------> loss=0.08906908882003381 ----------\n",
      "--------- epoch 57 -------> loss=0.08803098447827593 ----------\n",
      "--------- epoch 58 -------> loss=0.08701867790452258 ----------\n",
      "--------- epoch 59 -------> loss=0.08603116426878074 ----------\n",
      "--------- epoch 60 -------> loss=0.08506749267751701 ----------\n",
      "--------- epoch 61 -------> loss=0.0841267624630237 ----------\n",
      "--------- epoch 62 -------> loss=0.08320811978476804 ----------\n",
      "--------- epoch 63 -------> loss=0.08231075451174277 ----------\n",
      "--------- epoch 64 -------> loss=0.08143389735837779 ----------\n",
      "--------- epoch 65 -------> loss=0.08057681724965679 ----------\n",
      "--------- epoch 66 -------> loss=0.07973881889377643 ----------\n",
      "--------- epoch 67 -------> loss=0.07891924054304239 ----------\n",
      "--------- epoch 68 -------> loss=0.07811745192576565 ----------\n",
      "--------- epoch 69 -------> loss=0.07733285233373796 ----------\n",
      "--------- epoch 70 -------> loss=0.07656486885146876 ----------\n",
      "--------- epoch 71 -------> loss=0.07581295471477849 ----------\n",
      "--------- epoch 72 -------> loss=0.07507658778759305 ----------\n",
      "--------- epoch 73 -------> loss=0.07435526914689296 ----------\n",
      "--------- epoch 74 -------> loss=0.07364852176675349 ----------\n",
      "--------- epoch 75 -------> loss=0.07295588929328753 ----------\n",
      "--------- epoch 76 -------> loss=0.07227693490308149 ----------\n",
      "--------- epoch 77 -------> loss=0.07161124023841121 ----------\n",
      "--------- epoch 78 -------> loss=0.07095840441314552 ----------\n",
      "--------- epoch 79 -------> loss=0.07031804308380227 ----------\n",
      "--------- epoch 80 -------> loss=0.0696897875807211 ----------\n",
      "--------- epoch 81 -------> loss=0.06907328409476483 ----------\n",
      "--------- epoch 82 -------> loss=0.0684681929153652 ----------\n",
      "--------- epoch 83 -------> loss=0.06787418771609108 ----------\n",
      "--------- epoch 84 -------> loss=0.06729095488424605 ----------\n",
      "--------- epoch 85 -------> loss=0.06671819289129631 ----------\n",
      "--------- epoch 86 -------> loss=0.06615561170119877 ----------\n",
      "--------- epoch 87 -------> loss=0.06560293221394076 ----------\n",
      "--------- epoch 88 -------> loss=0.06505988574182214 ----------\n",
      "--------- epoch 89 -------> loss=0.06452621351621073 ----------\n",
      "--------- epoch 90 -------> loss=0.0640016662226818 ----------\n",
      "--------- epoch 91 -------> loss=0.06348600356261837 ----------\n",
      "--------- epoch 92 -------> loss=0.06297899383949844 ----------\n",
      "--------- epoch 93 -------> loss=0.06248041356823212 ----------\n",
      "--------- epoch 94 -------> loss=0.06199004710603696 ----------\n",
      "--------- epoch 95 -------> loss=0.06150768630345323 ----------\n",
      "--------- epoch 96 -------> loss=0.06103313017420618 ----------\n",
      "--------- epoch 97 -------> loss=0.060566184582717064 ----------\n",
      "--------- epoch 98 -------> loss=0.06010666194815244 ----------\n",
      "--------- epoch 99 -------> loss=0.059654380963982435 ----------\n",
      "--------- epoch 100 -------> loss=0.05920916633209121 ----------\n"
     ]
    }
   ],
   "source": [
    "log = LogisticRegression()\n",
    "log.fit(X_train, y_train)"
   ]
  },
  {
   "cell_type": "code",
   "execution_count": 6,
   "metadata": {},
   "outputs": [],
   "source": [
    "y_pred = log.predict(X_test)"
   ]
  },
  {
   "cell_type": "code",
   "execution_count": 11,
   "metadata": {},
   "outputs": [],
   "source": [
    "from sklearn.metrics import accuracy_score, confusion_matrix"
   ]
  },
  {
   "cell_type": "code",
   "execution_count": 16,
   "metadata": {},
   "outputs": [
    {
     "data": {
      "text/plain": [
       "array([[10,  0],\n",
       "       [ 0, 10]], dtype=int64)"
      ]
     },
     "execution_count": 16,
     "metadata": {},
     "output_type": "execute_result"
    }
   ],
   "source": [
    "confusion_matrix(y_test, np.where(y_pred > 0.5, 1, 0))"
   ]
  },
  {
   "cell_type": "code",
   "execution_count": null,
   "metadata": {},
   "outputs": [],
   "source": []
  }
 ],
 "metadata": {
  "interpreter": {
   "hash": "931965570dab6fcf7c8147f4219f05b1598763ad3a7d4ac5e053709c02cc5765"
  },
  "kernelspec": {
   "display_name": "Python 3.9.12 64-bit (windows store)",
   "language": "python",
   "name": "python3"
  },
  "language_info": {
   "codemirror_mode": {
    "name": "ipython",
    "version": 3
   },
   "file_extension": ".py",
   "mimetype": "text/x-python",
   "name": "python",
   "nbconvert_exporter": "python",
   "pygments_lexer": "ipython3",
   "version": "3.9.12"
  },
  "orig_nbformat": 4
 },
 "nbformat": 4,
 "nbformat_minor": 2
}
