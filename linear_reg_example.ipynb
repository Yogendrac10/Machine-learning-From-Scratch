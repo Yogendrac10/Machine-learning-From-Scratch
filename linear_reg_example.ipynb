{
 "cells": [
  {
   "cell_type": "code",
   "execution_count": 11,
   "metadata": {},
   "outputs": [],
   "source": [
    "from sklearn.datasets import make_regression\n",
    "import pandas as pd\n",
    "import numpy as np\n",
    "\n",
    "from My_own_algorithms.Linear_Regression import LinearRegression\n",
    "from sklearn.metrics import mean_absolute_error,mean_squared_error,r2_score"
   ]
  },
  {
   "cell_type": "code",
   "execution_count": 4,
   "metadata": {},
   "outputs": [],
   "source": [
    "X,y = make_regression(n_samples=500, n_features=2, n_informative=2, n_targets=1, noise=50)"
   ]
  },
  {
   "cell_type": "code",
   "execution_count": 5,
   "metadata": {},
   "outputs": [],
   "source": [
    "df = pd.DataFrame({'feature1':X[:,0],'feature2':X[:,1],'target':y})"
   ]
  },
  {
   "cell_type": "code",
   "execution_count": 6,
   "metadata": {},
   "outputs": [
    {
     "data": {
      "text/plain": [
       "(500, 3)"
      ]
     },
     "execution_count": 6,
     "metadata": {},
     "output_type": "execute_result"
    }
   ],
   "source": [
    "df.shape"
   ]
  },
  {
   "cell_type": "code",
   "execution_count": 7,
   "metadata": {},
   "outputs": [
    {
     "data": {
      "text/html": [
       "<div>\n",
       "<style scoped>\n",
       "    .dataframe tbody tr th:only-of-type {\n",
       "        vertical-align: middle;\n",
       "    }\n",
       "\n",
       "    .dataframe tbody tr th {\n",
       "        vertical-align: top;\n",
       "    }\n",
       "\n",
       "    .dataframe thead th {\n",
       "        text-align: right;\n",
       "    }\n",
       "</style>\n",
       "<table border=\"1\" class=\"dataframe\">\n",
       "  <thead>\n",
       "    <tr style=\"text-align: right;\">\n",
       "      <th></th>\n",
       "      <th>feature1</th>\n",
       "      <th>feature2</th>\n",
       "      <th>target</th>\n",
       "    </tr>\n",
       "  </thead>\n",
       "  <tbody>\n",
       "    <tr>\n",
       "      <th>0</th>\n",
       "      <td>0.368702</td>\n",
       "      <td>-0.630391</td>\n",
       "      <td>-47.529339</td>\n",
       "    </tr>\n",
       "    <tr>\n",
       "      <th>1</th>\n",
       "      <td>-0.798119</td>\n",
       "      <td>-0.398533</td>\n",
       "      <td>-18.223554</td>\n",
       "    </tr>\n",
       "    <tr>\n",
       "      <th>2</th>\n",
       "      <td>-0.596379</td>\n",
       "      <td>1.125794</td>\n",
       "      <td>51.175470</td>\n",
       "    </tr>\n",
       "    <tr>\n",
       "      <th>3</th>\n",
       "      <td>0.758872</td>\n",
       "      <td>0.082177</td>\n",
       "      <td>52.320820</td>\n",
       "    </tr>\n",
       "    <tr>\n",
       "      <th>4</th>\n",
       "      <td>1.077409</td>\n",
       "      <td>-0.040702</td>\n",
       "      <td>31.173469</td>\n",
       "    </tr>\n",
       "  </tbody>\n",
       "</table>\n",
       "</div>"
      ],
      "text/plain": [
       "   feature1  feature2     target\n",
       "0  0.368702 -0.630391 -47.529339\n",
       "1 -0.798119 -0.398533 -18.223554\n",
       "2 -0.596379  1.125794  51.175470\n",
       "3  0.758872  0.082177  52.320820\n",
       "4  1.077409 -0.040702  31.173469"
      ]
     },
     "execution_count": 7,
     "metadata": {},
     "output_type": "execute_result"
    }
   ],
   "source": [
    "df.head()"
   ]
  },
  {
   "cell_type": "code",
   "execution_count": 8,
   "metadata": {},
   "outputs": [],
   "source": [
    "from sklearn.model_selection import train_test_split\n",
    "X_train,X_test,y_train,y_test = train_test_split(X,y,test_size=0.2,random_state=10)"
   ]
  },
  {
   "cell_type": "code",
   "execution_count": 9,
   "metadata": {},
   "outputs": [
    {
     "name": "stdout",
     "output_type": "stream",
     "text": [
      "--------- epoch 1 -------> loss=3092.1689920993063 ----------\n",
      "--------- epoch 2 -------> loss=2758.0498373527703 ----------\n",
      "--------- epoch 3 -------> loss=2485.062084428763 ----------\n",
      "--------- epoch 4 -------> loss=2261.970015147387 ----------\n",
      "--------- epoch 5 -------> loss=2079.612689613093 ----------\n",
      "--------- epoch 6 -------> loss=1930.5189815150918 ----------\n",
      "--------- epoch 7 -------> loss=1808.5943885586155 ----------\n",
      "--------- epoch 8 -------> loss=1708.8661706661917 ----------\n",
      "--------- epoch 9 -------> loss=1627.2759001968434 ----------\n",
      "--------- epoch 10 -------> loss=1560.5105611673123 ----------\n",
      "--------- epoch 11 -------> loss=1505.8649993262195 ----------\n",
      "--------- epoch 12 -------> loss=1461.1298755611135 ----------\n",
      "--------- epoch 13 -------> loss=1424.500371099931 ----------\n",
      "--------- epoch 14 -------> loss=1394.501782540849 ----------\n",
      "--------- epoch 15 -------> loss=1369.9288669662544 ----------\n",
      "--------- epoch 16 -------> loss=1349.7963839007696 ----------\n",
      "--------- epoch 17 -------> loss=1333.2987572858835 ----------\n",
      "--------- epoch 18 -------> loss=1319.777167729278 ----------\n",
      "--------- epoch 19 -------> loss=1308.692699875026 ----------\n",
      "--------- epoch 20 -------> loss=1299.604425475306 ----------\n",
      "--------- epoch 21 -------> loss=1292.1515106889356 ----------\n",
      "--------- epoch 22 -------> loss=1286.0386052608822 ----------\n",
      "--------- epoch 23 -------> loss=1281.02390883073 ----------\n",
      "--------- epoch 24 -------> loss=1276.9094215853522 ----------\n",
      "--------- epoch 25 -------> loss=1273.5329776078954 ----------\n",
      "--------- epoch 26 -------> loss=1270.7617334757708 ----------\n",
      "--------- epoch 27 -------> loss=1268.4868450872839 ----------\n",
      "--------- epoch 28 -------> loss=1266.6191149190129 ----------\n",
      "--------- epoch 29 -------> loss=1265.0854320216717 ----------\n",
      "--------- epoch 30 -------> loss=1263.8258597477202 ----------\n",
      "--------- epoch 31 -------> loss=1262.7912528488873 ----------\n",
      "--------- epoch 32 -------> loss=1261.9413073077371 ----------\n",
      "--------- epoch 33 -------> loss=1261.2429639869047 ----------\n",
      "--------- epoch 34 -------> loss=1260.6691016350105 ----------\n",
      "--------- epoch 35 -------> loss=1260.1974665836306 ----------\n",
      "--------- epoch 36 -------> loss=1259.8097960968912 ----------\n",
      "--------- epoch 37 -------> loss=1259.49110019466 ----------\n",
      "--------- epoch 38 -------> loss=1259.2290731880482 ----------\n",
      "--------- epoch 39 -------> loss=1259.0136114076977 ----------\n",
      "--------- epoch 40 -------> loss=1258.8364178875706 ----------\n",
      "--------- epoch 41 -------> loss=1258.690678266147 ----------\n",
      "--------- epoch 42 -------> loss=1258.570795026874 ----------\n",
      "--------- epoch 43 -------> loss=1258.472169537759 ----------\n",
      "--------- epoch 44 -------> loss=1258.3910232617425 ----------\n",
      "--------- epoch 45 -------> loss=1258.324251073079 ----------\n",
      "--------- epoch 46 -------> loss=1258.2693008940123 ----------\n",
      "--------- epoch 47 -------> loss=1258.2240749125822 ----------\n",
      "--------- epoch 48 -------> loss=1258.1868484988922 ----------\n",
      "--------- epoch 49 -------> loss=1258.156203638258 ----------\n",
      "--------- epoch 50 -------> loss=1258.1309742736453 ----------\n",
      "--------- epoch 51 -------> loss=1258.1102014198646 ----------\n",
      "--------- epoch 52 -------> loss=1258.0930962969685 ----------\n",
      "--------- epoch 53 -------> loss=1258.0790100457027 ----------\n",
      "--------- epoch 54 -------> loss=1258.0674088462767 ----------\n",
      "--------- epoch 55 -------> loss=1258.0578534735191 ----------\n",
      "--------- epoch 56 -------> loss=1258.0499824950698 ----------\n",
      "--------- epoch 57 -------> loss=1258.043498461595 ----------\n",
      "--------- epoch 58 -------> loss=1258.0381565547057 ----------\n",
      "--------- epoch 59 -------> loss=1258.0337552539795 ----------\n",
      "--------- epoch 60 -------> loss=1258.0301286629876 ----------\n",
      "--------- epoch 61 -------> loss=1258.0271401986447 ----------\n",
      "--------- epoch 62 -------> loss=1258.024677401052 ----------\n",
      "--------- epoch 63 -------> loss=1258.0226476643738 ----------\n",
      "--------- epoch 64 -------> loss=1258.0209747249005 ----------\n",
      "--------- epoch 65 -------> loss=1258.0195957716692 ----------\n",
      "--------- epoch 66 -------> loss=1258.0184590690205 ----------\n",
      "--------- epoch 67 -------> loss=1258.0175220001793 ----------\n",
      "--------- epoch 68 -------> loss=1258.0167494571208 ----------\n",
      "--------- epoch 69 -------> loss=1258.0161125153068 ----------\n",
      "--------- epoch 70 -------> loss=1258.015587342768 ----------\n",
      "--------- epoch 71 -------> loss=1258.0151543020145 ----------\n",
      "--------- epoch 72 -------> loss=1258.0147972106163 ----------\n",
      "--------- epoch 73 -------> loss=1258.0145027323636 ----------\n",
      "--------- epoch 74 -------> loss=1258.0142598759023 ----------\n",
      "--------- epoch 75 -------> loss=1258.0140595818352 ----------\n",
      "--------- epoch 76 -------> loss=1258.013894382649 ----------\n",
      "--------- epoch 77 -------> loss=1258.013758122601 ----------\n",
      "--------- epoch 78 -------> loss=1258.0136457269712 ----------\n",
      "--------- epoch 79 -------> loss=1258.013553011969 ----------\n",
      "--------- epoch 80 -------> loss=1258.0134765281143 ----------\n",
      "--------- epoch 81 -------> loss=1258.0134134311938 ----------\n",
      "--------- epoch 82 -------> loss=1258.0133613759247 ----------\n",
      "--------- epoch 83 -------> loss=1258.0133184283281 ----------\n",
      "--------- epoch 84 -------> loss=1258.013282993512 ----------\n",
      "--------- epoch 85 -------> loss=1258.0132537561492 ----------\n",
      "--------- epoch 86 -------> loss=1258.0132296314216 ----------\n",
      "--------- epoch 87 -------> loss=1258.0132097245773 ----------\n",
      "--------- epoch 88 -------> loss=1258.0131932975955 ----------\n",
      "--------- epoch 89 -------> loss=1258.0131797417057 ----------\n",
      "--------- epoch 90 -------> loss=1258.013168554727 ----------\n",
      "--------- epoch 91 -------> loss=1258.0131593223891 ----------\n",
      "--------- epoch 92 -------> loss=1258.0131517029276 ----------\n",
      "--------- epoch 93 -------> loss=1258.013145414382 ----------\n",
      "--------- epoch 94 -------> loss=1258.0131402241227 ----------\n",
      "--------- epoch 95 -------> loss=1258.0131359402103 ----------\n",
      "--------- epoch 96 -------> loss=1258.0131324042748 ----------\n",
      "--------- epoch 97 -------> loss=1258.0131294856385 ----------\n",
      "--------- epoch 98 -------> loss=1258.0131270764698 ----------\n",
      "--------- epoch 99 -------> loss=1258.0131250877862 ----------\n",
      "--------- epoch 100 -------> loss=1258.013123446157 ----------\n"
     ]
    }
   ],
   "source": [
    "lr = LinearRegression()\n",
    "lr.fit(X_train, y_train)"
   ]
  },
  {
   "cell_type": "code",
   "execution_count": 10,
   "metadata": {},
   "outputs": [],
   "source": [
    "y_pred = lr.predict(X_test)"
   ]
  },
  {
   "cell_type": "code",
   "execution_count": 12,
   "metadata": {},
   "outputs": [
    {
     "name": "stdout",
     "output_type": "stream",
     "text": [
      "MAE 42.94901089168579\n",
      "MSE 2908.725690926594\n",
      "R2 score 0.5187238382846708\n"
     ]
    }
   ],
   "source": [
    "print(\"MAE\",mean_absolute_error(y_test,y_pred))\n",
    "print(\"MSE\",mean_squared_error(y_test,y_pred))\n",
    "print(\"R2 score\",r2_score(y_test,y_pred))"
   ]
  },
  {
   "cell_type": "markdown",
   "metadata": {},
   "source": [
    "If We increase the epochs we will get more accuracy (by default epochs are 100)"
   ]
  },
  {
   "cell_type": "code",
   "execution_count": null,
   "metadata": {},
   "outputs": [],
   "source": []
  }
 ],
 "metadata": {
  "interpreter": {
   "hash": "931965570dab6fcf7c8147f4219f05b1598763ad3a7d4ac5e053709c02cc5765"
  },
  "kernelspec": {
   "display_name": "Python 3.9.12 64-bit (windows store)",
   "language": "python",
   "name": "python3"
  },
  "language_info": {
   "codemirror_mode": {
    "name": "ipython",
    "version": 3
   },
   "file_extension": ".py",
   "mimetype": "text/x-python",
   "name": "python",
   "nbconvert_exporter": "python",
   "pygments_lexer": "ipython3",
   "version": "3.9.12"
  },
  "orig_nbformat": 4
 },
 "nbformat": 4,
 "nbformat_minor": 2
}
